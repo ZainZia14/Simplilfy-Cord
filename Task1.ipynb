
   "source": [
    "import json \n",
    "import numpy as np\n",
    "import matplotlib.pyplot as plt\n",
    "from simplification.cutil import simplify_coords, simplify_coords_vw\n",
    "\n",
    "with open('deepak_test.json') as f:\n",
    "\n",
    "    data = json.load(f)\n",
    "\n",
    "size = 0\n",
    "list_no = 0\n",
    "size += len(data[\"anatomy\"][\"Bone\"][\"geometry\"][list_no])\n",
    "\n",
    "xy_array = np.zeros((1, size* 2))\n",
    "index = 0\n",
    "\n",
    "\n",
    "for j in range (len(data[\"anatomy\"][\"Bone\"][\"geometry\"][list_no])):\n",
    "        xy_array[0][index] = data[\"anatomy\"][\"Bone\"][\"geometry\"][list_no][j]['x']\n",
    "        index += 1\n",
    "        xy_array[0][index] = data[\"anatomy\"][\"Bone\"][\"geometry\"][list_no][j]['y']\n",
    "        index += 1\n",
    "\n",
    "rows = int(xy_array.size / 2)\n",
    "collumns = 2\n",
    "\n",
    "xy_array = xy_array.reshape(rows,collumns)\n",
    "\n",
    "ratio = 0.5 #percentage of points to be included\n",
    "count = 1 #counting no of iterations for both algorithms\n",
    "\n",
    "max_num_points = ratio * len(xy_array)\n",
    "if max_num_points:\n",
    "                epsilon = 0.001\n",
    "                simplified = simplify_coords(xy_array,epsilion)\n",
    "                while len(simplified) > max_num_points:\n",
    "                    epsilon *= 2\n",
    "                    count += 1\n",
    "                    simplified = simplify_coords(simplified, epsilon)\n",
    "\n",
    "count = 1\n",
    "\n",
    "max_num_points = ratio * len(xy_array)\n",
    "if max_num_points:\n",
    "                area = 0.001\n",
    "                simplified_vw = simplify_coords_vw(xy_array,area)\n",
    "                while len(simplified_vw) > max_num_points:\n",
    "                    area *= 2\n",
    "                    count += 1\n",
    "                    simplified_vw = simplify_coords(simplified_vw, area)\n",
    "                    \n",
    "\n",
    "plt.figure(1)\n",
    "plt.plot(xy_array[:,0], xy_array[:,1],\"b\")\n",
    "plt.show\n",
    "\n",
    "plt.figure(2)\n",
    "plt.plot(simplified[:,0], simplified[:,1],\"r\")\n",
    "plt.show\n",
    "\n",
    "plt.figure(3)\n",
    "plt.plot(simplified_vw[:,0], simplified_vw[:,1],\"g\")\n",
    "plt.show"
   ]
  },
  {
   "cell_type": "code",
   "execution_count": 167,
   "metadata": {},
   "outputs": [
    {
     "ename": "IndexError",
     "evalue": "list index out of range",
     "output_type": "error",
     "traceback": [
      "\u001b[1;31m---------------------------------------------------------------------------\u001b[0m",
      "\u001b[1;31mIndexError\u001b[0m                                Traceback (most recent call last)",
      "\u001b[1;32m<ipython-input-167-a0a2a9b5c73a>\u001b[0m in \u001b[0;36m<module>\u001b[1;34m\u001b[0m\n\u001b[1;32m----> 1\u001b[1;33m \u001b[0mprint\u001b[0m\u001b[1;33m(\u001b[0m\u001b[0mdata\u001b[0m\u001b[1;33m[\u001b[0m\u001b[1;34m\"anatomy\"\u001b[0m\u001b[1;33m]\u001b[0m\u001b[1;33m[\u001b[0m\u001b[1;34m\"Enamel\"\u001b[0m\u001b[1;33m]\u001b[0m\u001b[1;33m[\u001b[0m\u001b[1;34m\"geometry\"\u001b[0m\u001b[1;33m]\u001b[0m\u001b[1;33m[\u001b[0m\u001b[1;36m3\u001b[0m\u001b[1;33m]\u001b[0m\u001b[1;33m)\u001b[0m\u001b[1;33m\u001b[0m\u001b[1;33m\u001b[0m\u001b[0m\n\u001b[0m",
      "\u001b[1;31mIndexError\u001b[0m: list index out of range"
     ]
    }
   ],
   "source": [
    "print(data[\"anatomy\"][\"Enamel\"][\"geometry\"][])"
   ]
  },
  {
   "cell_type": "code",
   "execution_count": null,
   "metadata": {},
   "outputs": [],
   "source": []
  }
 ],
 "metadata": {
  "kernelspec": {
   "display_name": "Python 3",
   "language": "python",
   "name": "python3"
  },
  "language_info": {
   "codemirror_mode": {
    "name": "ipython",
    "version": 3
   },
   "file_extension": ".py",
   "mimetype": "text/x-python",
   "name": "python",
   "nbconvert_exporter": "python",
   "pygments_lexer": "ipython3",
   "version": "3.7.3"
  }
 },
 "nbformat": 4,
 "nbformat_minor": 2
}
